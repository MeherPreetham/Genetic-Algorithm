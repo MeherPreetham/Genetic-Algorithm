{
  "nbformat": 4,
  "nbformat_minor": 0,
  "metadata": {
    "colab": {
      "provenance": [],
      "authorship_tag": "ABX9TyMyEP3a3mVfm2LaMhUT8ciG",
      "include_colab_link": true
    },
    "kernelspec": {
      "name": "python3",
      "display_name": "Python 3"
    },
    "language_info": {
      "name": "python"
    }
  },
  "cells": [
    {
      "cell_type": "markdown",
      "metadata": {
        "id": "view-in-github",
        "colab_type": "text"
      },
      "source": [
        "<a href=\"https://colab.research.google.com/github/MeherPreetham/Genetic-Algorithm/blob/main/MonolithicGA.ipynb\" target=\"_parent\"><img src=\"https://colab.research.google.com/assets/colab-badge.svg\" alt=\"Open In Colab\"/></a>"
      ]
    },
    {
      "cell_type": "code",
      "execution_count": 2,
      "metadata": {
        "colab": {
          "base_uri": "https://localhost:8080/"
        },
        "id": "Acbd34lG8Wor",
        "outputId": "6a205343-54fb-45a4-faaa-4be49384f672"
      },
      "outputs": [
        {
          "output_type": "stream",
          "name": "stdout",
          "text": [
            "Collecting deap\n",
            "  Downloading deap-1.4.3-cp311-cp311-manylinux_2_5_x86_64.manylinux1_x86_64.manylinux_2_17_x86_64.manylinux2014_x86_64.whl.metadata (13 kB)\n",
            "Requirement already satisfied: numpy in /usr/local/lib/python3.11/dist-packages (from deap) (2.0.2)\n",
            "Downloading deap-1.4.3-cp311-cp311-manylinux_2_5_x86_64.manylinux1_x86_64.manylinux_2_17_x86_64.manylinux2014_x86_64.whl (135 kB)\n",
            "\u001b[?25l   \u001b[90m━━━━━━━━━━━━━━━━━━━━━━━━━━━━━━━━━━━━━━━━\u001b[0m \u001b[32m0.0/135.6 kB\u001b[0m \u001b[31m?\u001b[0m eta \u001b[36m-:--:--\u001b[0m\r\u001b[2K   \u001b[91m━━━━━━━━━━━━━━━━━━━━━━━━━━━━━━━━━━━━━━━\u001b[0m\u001b[90m╺\u001b[0m \u001b[32m133.1/135.6 kB\u001b[0m \u001b[31m3.8 MB/s\u001b[0m eta \u001b[36m0:00:01\u001b[0m\r\u001b[2K   \u001b[90m━━━━━━━━━━━━━━━━━━━━━━━━━━━━━━━━━━━━━━━━\u001b[0m \u001b[32m135.6/135.6 kB\u001b[0m \u001b[31m2.8 MB/s\u001b[0m eta \u001b[36m0:00:00\u001b[0m\n",
            "\u001b[?25hInstalling collected packages: deap\n",
            "Successfully installed deap-1.4.3\n"
          ]
        }
      ],
      "source": [
        "!pip install deap\n",
        "import random\n",
        "import math\n",
        "from deap import base, creator, tools"
      ]
    },
    {
      "cell_type": "code",
      "source": [
        "print(\"===========GA PARAMETERS===========\")\n",
        "NUM_TASKS = int(input(\"Enter the number of tasks: \"))\n",
        "NUM_CORES = int(input(\"Enter the number of cores: \"))\n",
        "NUM_POPULATION = int(input(\"Enter the number of population: \"))\n",
        "NUM_GENERATIONS = int(input(\"Enter the number of generations: \"))\n",
        "CROSSOVER_RATE = float(input(\"Enter the crossover rate: \"))\n",
        "MUTATION_RATE = float(input(\"Enter the mutation rate: \"))\n",
        "BASE_ENERGY = float(input(\"Enter the base energy consumption of the cores (J/ms): \"))"
      ],
      "metadata": {
        "colab": {
          "base_uri": "https://localhost:8080/"
        },
        "collapsed": true,
        "id": "P8GjKTaN8mhf",
        "outputId": "0503df50-aa8d-4230-fa65-736f443e36f1"
      },
      "execution_count": 3,
      "outputs": [
        {
          "name": "stdout",
          "output_type": "stream",
          "text": [
            "===========GA PARAMETERS===========\n",
            "Enter the number of tasks: 1000\n",
            "Enter the number of cores: 16\n",
            "Enter the number of population: 100\n",
            "Enter the number of generations: 2000\n",
            "Enter the crossover rate: 0.5\n",
            "Enter the mutation rate: 0.2\n",
            "Enter the base energy consumption of the cores (J/ms): 3\n"
          ]
        }
      ]
    },
    {
      "cell_type": "code",
      "source": [
        "execution_times = [random.randint(1, 10) for _ in range(NUM_TASKS)]\n",
        "\n",
        "def setup_deap(NUM_TASKS, NUM_CORES):\n",
        "  creator.create(\"FitnessMin\", base.Fitness, weights=(-1.0,))\n",
        "  creator.create(\"Individual\", list, fitness = creator.FitnessMin)\n",
        "\n",
        "  toolbox = base.Toolbox()\n",
        "\n",
        "  toolbox.register(\"attr_core\", random.randint, 0, NUM_CORES-1)\n",
        "  toolbox.register(\"individual\", tools.initRepeat, creator.Individual, toolbox.attr_core, n = NUM_TASKS)\n",
        "  toolbox.register(\"population\", tools.initRepeat, list, toolbox.individual)\n",
        "\n",
        "  return toolbox\n",
        "\n",
        "toolbox = setup_deap(NUM_TASKS, NUM_CORES)\n",
        "chromosome = toolbox.individual()\n",
        "\n",
        "print(\"==============GENERATING AN INDIVIDUAL==============\")\n",
        "print(\"Sample task-to-core mapping (first 10 tasks):\")\n",
        "print(chromosome[:min(10, NUM_TASKS)])\n",
        "print(\"\\n\")\n",
        "for i, core in enumerate(chromosome[:min(10, NUM_TASKS)]):\n",
        "  print(f\"Task {i} → Core {core} | Execution Time: {execution_times[i]} ms\")\n",
        "print(\"====================================================\")"
      ],
      "metadata": {
        "colab": {
          "base_uri": "https://localhost:8080/"
        },
        "id": "-kX6pdxi9nvy",
        "outputId": "481c2fdf-3678-4089-899e-006152209d23"
      },
      "execution_count": 4,
      "outputs": [
        {
          "output_type": "stream",
          "name": "stdout",
          "text": [
            "==============GENERATING AN INDIVIDUAL==============\n",
            "Sample task-to-core mapping (first 10 tasks):\n",
            "[7, 4, 10, 12, 1, 9, 10, 3, 9, 10]\n",
            "\n",
            "\n",
            "Task 0 → Core 7 | Execution Time: 4 ms\n",
            "Task 1 → Core 4 | Execution Time: 9 ms\n",
            "Task 2 → Core 10 | Execution Time: 8 ms\n",
            "Task 3 → Core 12 | Execution Time: 5 ms\n",
            "Task 4 → Core 1 | Execution Time: 3 ms\n",
            "Task 5 → Core 9 | Execution Time: 1 ms\n",
            "Task 6 → Core 10 | Execution Time: 8 ms\n",
            "Task 7 → Core 3 | Execution Time: 10 ms\n",
            "Task 8 → Core 9 | Execution Time: 9 ms\n",
            "Task 9 → Core 10 | Execution Time: 2 ms\n",
            "====================================================\n"
          ]
        }
      ]
    },
    {
      "cell_type": "code",
      "source": [
        "#Fitness\n",
        "\n",
        "#To find the makespan; maximum time taken by a core to finish execution.\n",
        "core_times = [0] * NUM_CORES\n",
        "\n",
        "for task_id, core_id in enumerate(chromosome):\n",
        "    exec_time = execution_times[task_id]\n",
        "    core_times[core_id] += exec_time\n",
        "\n",
        "makespan = max(core_times) #should be minimised.\n",
        "\n",
        "#Logging and saving energy consumed by cores in total and per core.\n",
        "power_cost = [0.0] * NUM_CORES #energy consumed by cores separately.\n",
        "\n",
        "for task_id, core_id in enumerate(chromosome):\n",
        "    exec_time = execution_times[task_id]\n",
        "    power_cost[core_id] += exec_time * BASE_ENERGY\n",
        "\n",
        "net_power_cost = sum(power_cost) #total energy consumed by all cores\n",
        "\n",
        "#Calculating imbalance; task distribution across all the cores.\n",
        "avg_load = sum(core_times) / NUM_CORES\n",
        "#measures how off the load is from the average on all the cores separately.\n",
        "imbalance = sum((time - avg_load) ** 2 for time in core_times) / NUM_CORES\n",
        "MAX_EXEC_TIME = max(execution_times)\n",
        "MAX_TOTAL = NUM_TASKS * MAX_EXEC_TIME\n",
        "MAX_IMBALANCE = (MAX_TOTAL ** 2) / NUM_CORES\n",
        "\n",
        "\n",
        "#Normalising the metrics between [0, 1]\n",
        "norm_makespan = (makespan - min(core_times)) / (max(core_times) - min(core_times))\n",
        "norm_energy = (net_power_cost - min(power_cost)) / (max(power_cost) - min(power_cost) + 1e-9)\n",
        "norm_imbalance = imbalance / MAX_IMBALANCE\n",
        "\n",
        "#The final weighted fitness score of all the constraints considered.\n",
        "w1 = 0.5  # weight for makespan\n",
        "w2 = 0.3  # weight for energy\n",
        "w3 = 0.2  # weight for imbalance\n",
        "fitness = 100 - ((w1 * norm_makespan) + (w2 * norm_energy) + (w3 * norm_imbalance))\n",
        "\n",
        "print(\"==============EXECUTION TIME METRICS==============\")\n",
        "print(f\"core times = {core_times}\")\n",
        "print(f\"average core time = {avg_load}\")\n",
        "print(f\"imbalance = {imbalance}\")\n",
        "print(f\"normalised imbalance = {norm_imbalance}\")\n",
        "print(f\"makespan = {makespan}\")\n",
        "print(f\"normalised makespan = {norm_makespan}\")\n",
        "print(\"\\n==================ENERGY METRICS==================\")\n",
        "print(f\"power cost = {power_cost}\")\n",
        "print(f\"net_power_cost = {net_power_cost}\")\n",
        "print(f\"normalised energy = {norm_energy}\")\n",
        "print(\"\\n=================WEIGHTED FITNESS=================\")\n",
        "print(f\"Fitness = {fitness:.3f}%\")\n",
        "print(\"==================================================\")"
      ],
      "metadata": {
        "colab": {
          "base_uri": "https://localhost:8080/"
        },
        "id": "CvZiHJMSlCcw",
        "outputId": "62186c53-a306-468e-8b9a-be4d90b399fd"
      },
      "execution_count": 16,
      "outputs": [
        {
          "output_type": "stream",
          "name": "stdout",
          "text": [
            "==============EXECUTION TIME METRICS==============\n",
            "core times = [294, 381, 275, 371, 422, 338, 317, 286, 406, 298, 341, 335, 351, 381, 390, 308]\n",
            "average core time = 343.375\n",
            "imbalance = 1902.859375\n",
            "normalised imbalance = 0.0003044575\n",
            "makespan = 422\n",
            "normalised makespan = 1.0\n",
            "\n",
            "==================ENERGY METRICS==================\n",
            "power cost = [882.0, 1143.0, 825.0, 1113.0, 1266.0, 1014.0, 951.0, 858.0, 1218.0, 894.0, 1023.0, 1005.0, 1053.0, 1143.0, 1170.0, 924.0]\n",
            "net_power_cost = 16482.0\n",
            "normalised energy = 35.50340136046371\n",
            "\n",
            "=================WEIGHTED FITNESS=================\n",
            "Fitness = 88.849%\n",
            "==================================================\n"
          ]
        }
      ]
    }
  ]
}